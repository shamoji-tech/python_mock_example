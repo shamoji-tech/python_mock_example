{
  "nbformat": 4,
  "nbformat_minor": 0,
  "metadata": {
    "colab": {
      "name": "MagicMock.ipynb",
      "provenance": [],
      "authorship_tag": "ABX9TyMaCGAftdcpzPutUIonq4mg",
      "include_colab_link": true
    },
    "kernelspec": {
      "name": "python3",
      "display_name": "Python 3"
    },
    "language_info": {
      "name": "python"
    }
  },
  "cells": [
    {
      "cell_type": "markdown",
      "metadata": {
        "id": "view-in-github",
        "colab_type": "text"
      },
      "source": [
        "<a href=\"https://colab.research.google.com/github/shamoji-tech/python_mock_example/blob/main/ja/MagicMock.ipynb\" target=\"_parent\"><img src=\"https://colab.research.google.com/assets/colab-badge.svg\" alt=\"Open In Colab\"/></a>"
      ]
    },
    {
      "cell_type": "code",
      "metadata": {
        "colab": {
          "base_uri": "https://localhost:8080/"
        },
        "id": "Joave3kKkl7a",
        "outputId": "83256d62-9349-4190-fdeb-ec3ef357c93d"
      },
      "source": [
        "!pip install icecream"
      ],
      "execution_count": 19,
      "outputs": [
        {
          "output_type": "stream",
          "text": [
            "Collecting icecream\n",
            "  Downloading https://files.pythonhosted.org/packages/31/cc/5454531fe9ae123720b496fdea806e282843d6e75e5718a5e8b1d8e5c47f/icecream-2.1.0-py2.py3-none-any.whl\n",
            "Collecting asttokens>=2.0.1\n",
            "  Downloading https://files.pythonhosted.org/packages/62/e9/247023d33dc110117b831cbfe47bb553e10d0edf92297ace745256402d42/asttokens-2.0.4-py2.py3-none-any.whl\n",
            "Collecting colorama>=0.3.9\n",
            "  Downloading https://files.pythonhosted.org/packages/44/98/5b86278fbbf250d239ae0ecb724f8572af1c91f4a11edf4d36a206189440/colorama-0.4.4-py2.py3-none-any.whl\n",
            "Requirement already satisfied: pygments>=2.2.0 in /usr/local/lib/python3.7/dist-packages (from icecream) (2.6.1)\n",
            "Collecting executing>=0.3.1\n",
            "  Downloading https://files.pythonhosted.org/packages/e9/3d/2c2cf37d6194fa93c35e7ba6ab5aaa841a9b1b788fc322b01e53e0602049/executing-0.5.4-py3-none-any.whl\n",
            "Requirement already satisfied: six in /usr/local/lib/python3.7/dist-packages (from asttokens>=2.0.1->icecream) (1.15.0)\n",
            "Installing collected packages: asttokens, colorama, executing, icecream\n",
            "Successfully installed asttokens-2.0.4 colorama-0.4.4 executing-0.5.4 icecream-2.1.0\n"
          ],
          "name": "stdout"
        }
      ]
    },
    {
      "cell_type": "code",
      "metadata": {
        "id": "YiKWrMyReNsm"
      },
      "source": [
        "from unittest.mock import MagicMock, patch, PropertyMock\n",
        "from icecream import ic"
      ],
      "execution_count": 21,
      "outputs": []
    },
    {
      "cell_type": "markdown",
      "metadata": {
        "id": "Q_Ttaq4jfUID"
      },
      "source": [
        "# Mockとは\n",
        "Magic Mock は単純にPythonの上書き機能を利用したMock機能になっている。  \n",
        "何かの関数を単体テストしたい場合に、テストしたくない外部機能に対してMock(つまり似非関数)で上書きしてしまおうと言う魂胆。\n",
        "\n",
        "よく使うのは、GCSFSなどのネットワークを経由したりCloudを経由するものをMockしたりする。\n",
        "\n",
        "# Mockを使ってみる\n",
        "\n",
        "Mockは以下のように使用できる関数である。"
      ]
    },
    {
      "cell_type": "code",
      "metadata": {
        "colab": {
          "base_uri": "https://localhost:8080/",
          "height": 154
        },
        "id": "gQpKGe2JfFyP",
        "outputId": "04970ac1-245a-4b25-a379-b074fcfe7d84"
      },
      "source": [
        "mock = MagicMock() \n",
        "ic(mock(423,\"some_value\", key=\"value\")) # 何もしない\n",
        "\n",
        "mock = MagicMock(return_value=\"some_value\") # return_valueで返り値を設定可能\n",
        "ic(mock(\"will return\"))\n",
        "\n",
        "mock = MagicMock()\n",
        "mock.return_value = \"test_value\" # return_value propatiesに入力してもOK\n",
        "ic(mock(\"will return\"))\n",
        "\n",
        "mock = MagicMock(**{\"hello\": \"world\", \"number\": 444}) #こうすると、propaties扱いで設定可\n",
        "ic(mock.hello)\n",
        "ic(mock.number)\n",
        "\n",
        "mock = MagicMock(**{\"name\": \"python\"})\n",
        "ic(mock.name) # nameだけは特別扱いなので、注意\n",
        "\n",
        "mock = MagicMock()\n",
        "type(mock).name = PropertyMock(return_value=\"python\")\n",
        "ic(mock.name) #こうするとちゃんとnameもうまくプロパティとして機能してくれる。\n"
      ],
      "execution_count": 24,
      "outputs": [
        {
          "output_type": "stream",
          "text": [
            "ic| mock(423,\"some_value\", key=\"value\"): <MagicMock name='mock()' id='140047269094032'>\n",
            "ic| mock(\"will return\"): 'some_value'\n",
            "ic| mock(\"will return\"): 'test_value'\n",
            "ic| mock.hello: 'world'\n",
            "ic| mock.number: 444\n",
            "ic| mock.name: <MagicMock name='python.name' id='140047147045200'>\n",
            "ic| mock.name: 'python'\n"
          ],
          "name": "stderr"
        },
        {
          "output_type": "execute_result",
          "data": {
            "application/vnd.google.colaboratory.intrinsic+json": {
              "type": "string"
            },
            "text/plain": [
              "'python'"
            ]
          },
          "metadata": {
            "tags": []
          },
          "execution_count": 24
        }
      ]
    },
    {
      "cell_type": "markdown",
      "metadata": {
        "id": "GpdiaTmnlmgr"
      },
      "source": [
        "# Patch\n",
        "\n",
        "patchを当てることで、遠隔地で関数が呼び出された場合に何かのObjectに置き換えることができる  \n",
        "つまり、Mockに置き換えたりすると言う訳。"
      ]
    },
    {
      "cell_type": "code",
      "metadata": {
        "colab": {
          "base_uri": "https://localhost:8080/"
        },
        "id": "z1eDa2b6ghP7",
        "outputId": "4dd80eeb-bf47-4f4f-a786-68fe2135ed1c"
      },
      "source": [
        "import tensorflow as tf\n",
        "with patch(\"tensorflow.keras.Model\", return_value=\"Hello, Python MagicMock!!\")as _: \n",
        "    ic(tf.keras.Model()) # with文以内ではpatchが適用される。\n",
        "\n",
        "\n",
        "\n"
      ],
      "execution_count": 38,
      "outputs": [
        {
          "output_type": "stream",
          "text": [
            "ic| tf.keras.Model(): 'Hello, Python MagicMock!!'\n"
          ],
          "name": "stderr"
        }
      ]
    },
    {
      "cell_type": "code",
      "metadata": {
        "id": "e8pZKxH0ms8u"
      },
      "source": [
        ""
      ],
      "execution_count": null,
      "outputs": []
    }
  ]
}